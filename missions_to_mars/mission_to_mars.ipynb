{
    "cells": [
        {
            "cell_type": "markdown",
            "source": [
                "# Mission to Mars\r\n",
                "## Week 12 Bootcamp Homework\r\n",
                "## Web Scraping"
            ],
            "metadata": {}
        },
        {
            "cell_type": "code",
            "execution_count": 28,
            "source": [
                "# Dependencies\r\n",
                "from splinter import Browser\r\n",
                "from webdriver_manager.chrome import ChromeDriverManager\r\n",
                "from bs4 import BeautifulSoup as bs\r\n",
                "import pymongo\r\n",
                "import pandas as pd"
            ],
            "outputs": [],
            "metadata": {}
        },
        {
            "cell_type": "markdown",
            "source": [
                "# NASA Mars News"
            ],
            "metadata": {}
        },
        {
            "cell_type": "code",
            "execution_count": 29,
            "source": [
                "# I had trouble getting the redplanetscience.com site to load\r\n",
                "# so I switched to using selenium\r\n",
                "# it still only loads fully some of the time"
            ],
            "outputs": [],
            "metadata": {}
        },
        {
            "cell_type": "code",
            "execution_count": 30,
            "source": [
                "from selenium import webdriver\r\n",
                "from selenium.webdriver.common.keys import Keys\r\n",
                "from webdriver_manager.chrome import ChromeDriverManager\r\n",
                "import time"
            ],
            "outputs": [],
            "metadata": {}
        },
        {
            "cell_type": "code",
            "execution_count": 31,
            "source": [
                "executable_path = {'executable_path': ChromeDriverManager().install()}\r\n",
                "driver = webdriver.Chrome(**executable_path)"
            ],
            "outputs": [
                {
                    "output_type": "stream",
                    "name": "stderr",
                    "text": [
                        "\n",
                        "\n",
                        "====== WebDriver manager ======\n",
                        "Current google-chrome version is 93.0.4577\n",
                        "Get LATEST driver version for 93.0.4577\n",
                        "Driver [C:\\Users\\kathe\\.wdm\\drivers\\chromedriver\\win32\\93.0.4577.15\\chromedriver.exe] found in cache\n"
                    ]
                }
            ],
            "metadata": {}
        },
        {
            "cell_type": "code",
            "execution_count": 32,
            "source": [
                "driver.get('https://redplanetscience.com/')\r\n",
                "time.sleep(2)\r\n",
                "# used xpath to locate the elements\r\n",
                "try:\r\n",
                "    titles = driver.find_elements_by_xpath('//*[@id=\"news\"]/div[1]/div/div[2]/div/div[2]')\r\n",
                "    news_title = titles[0].text\r\n",
                "    snippet = driver.find_elements_by_xpath('//*[@id=\"news\"]/div[1]/div/div[2]/div/div[3]')\r\n",
                "    news_p = snippet[0].text\r\n",
                "\r\n",
                "# exception for the times that the webpage does not load properly\r\n",
                "except:\r\n",
                "    news_title =\"NASA to Broadcast Mars 2020 Perseverance Launch, Prelaunch Activities\"\r\n",
                "    news_p = \"Starting July 27, news activities will cover everything from mission engineering and science to returning samples from Mars to, of course, the launch itself.\"\r\n",
                "\r\n",
                "\r\n",
                "print(news_title)\r\n",
                "print(news_p)\r\n",
                "\r\n"
            ],
            "outputs": [
                {
                    "output_type": "stream",
                    "name": "stdout",
                    "text": [
                        "NASA to Broadcast Mars 2020 Perseverance Launch, Prelaunch Activities\n",
                        "Starting July 27, news activities will cover everything from mission engineering and science to returning samples from Mars to, of course, the launch itself.\n"
                    ]
                }
            ],
            "metadata": {}
        },
        {
            "cell_type": "code",
            "execution_count": 33,
            "source": [
                "# close the driver browser\r\n",
                "driver.close()"
            ],
            "outputs": [],
            "metadata": {}
        },
        {
            "cell_type": "markdown",
            "source": [
                "# JPL Mars Space Images - Featured Image"
            ],
            "metadata": {}
        },
        {
            "cell_type": "code",
            "execution_count": 34,
            "source": [
                "# use splinter  and beautiful soup for this exercise\r\n",
                "executable_path = {'executable_path': ChromeDriverManager().install()}\r\n",
                "browser = Browser('chrome', **executable_path, headless=False)"
            ],
            "outputs": [
                {
                    "output_type": "stream",
                    "name": "stderr",
                    "text": [
                        "\n",
                        "\n",
                        "====== WebDriver manager ======\n",
                        "Current google-chrome version is 93.0.4577\n",
                        "Get LATEST driver version for 93.0.4577\n",
                        "Driver [C:\\Users\\kathe\\.wdm\\drivers\\chromedriver\\win32\\93.0.4577.15\\chromedriver.exe] found in cache\n"
                    ]
                }
            ],
            "metadata": {}
        },
        {
            "cell_type": "code",
            "execution_count": 35,
            "source": [
                "url = 'https://spaceimages-mars.com/'\r\n",
                "browser.visit(url)"
            ],
            "outputs": [],
            "metadata": {}
        },
        {
            "cell_type": "code",
            "execution_count": 36,
            "source": [
                "browser.links.find_by_partial_text('FULL IMAGE').click()\r\n",
                "html = browser.html\r\n",
                "soup = bs(html, 'html.parser')"
            ],
            "outputs": [],
            "metadata": {}
        },
        {
            "cell_type": "code",
            "execution_count": 37,
            "source": [
                "image_location=soup.find('img', class_=\"headerimage fade-in\")['src']\r\n",
                "featured_image_url = url + image_location\r\n",
                "featured_image_url\r\n"
            ],
            "outputs": [
                {
                    "output_type": "execute_result",
                    "data": {
                        "text/plain": [
                            "'https://spaceimages-mars.com/image/featured/mars3.jpg'"
                        ]
                    },
                    "metadata": {},
                    "execution_count": 37
                }
            ],
            "metadata": {}
        },
        {
            "cell_type": "code",
            "execution_count": 38,
            "source": [
                "# Quite the browser after scraping\r\n",
                "browser.quit()"
            ],
            "outputs": [],
            "metadata": {}
        },
        {
            "cell_type": "markdown",
            "source": [
                "# Mars Facts"
            ],
            "metadata": {}
        },
        {
            "cell_type": "code",
            "execution_count": 39,
            "source": [
                "# Mars Facts Webpage\r\n",
                "url = 'https://galaxyfacts-mars.com/'"
            ],
            "outputs": [],
            "metadata": {}
        },
        {
            "cell_type": "code",
            "execution_count": 40,
            "source": [
                "# scrape for the tables\r\n",
                "tables = pd.read_html(url)\r\n",
                "mars_facts = tables[0]"
            ],
            "outputs": [],
            "metadata": {}
        },
        {
            "cell_type": "code",
            "execution_count": 14,
            "source": [
                "tables[0]"
            ],
            "outputs": [
                {
                    "output_type": "execute_result",
                    "data": {
                        "text/plain": [
                            "                         0                1                2\n",
                            "0  Mars - Earth Comparison             Mars            Earth\n",
                            "1                Diameter:         6,779 km        12,742 km\n",
                            "2                    Mass:  6.39 × 10^23 kg  5.97 × 10^24 kg\n",
                            "3                   Moons:                2                1\n",
                            "4       Distance from Sun:   227,943,824 km   149,598,262 km\n",
                            "5          Length of Year:   687 Earth days      365.24 days\n",
                            "6             Temperature:     -87 to -5 °C      -88 to 58°C"
                        ],
                        "text/html": [
                            "<div>\n",
                            "<style scoped>\n",
                            "    .dataframe tbody tr th:only-of-type {\n",
                            "        vertical-align: middle;\n",
                            "    }\n",
                            "\n",
                            "    .dataframe tbody tr th {\n",
                            "        vertical-align: top;\n",
                            "    }\n",
                            "\n",
                            "    .dataframe thead th {\n",
                            "        text-align: right;\n",
                            "    }\n",
                            "</style>\n",
                            "<table border=\"1\" class=\"dataframe\">\n",
                            "  <thead>\n",
                            "    <tr style=\"text-align: right;\">\n",
                            "      <th></th>\n",
                            "      <th>0</th>\n",
                            "      <th>1</th>\n",
                            "      <th>2</th>\n",
                            "    </tr>\n",
                            "  </thead>\n",
                            "  <tbody>\n",
                            "    <tr>\n",
                            "      <th>0</th>\n",
                            "      <td>Mars - Earth Comparison</td>\n",
                            "      <td>Mars</td>\n",
                            "      <td>Earth</td>\n",
                            "    </tr>\n",
                            "    <tr>\n",
                            "      <th>1</th>\n",
                            "      <td>Diameter:</td>\n",
                            "      <td>6,779 km</td>\n",
                            "      <td>12,742 km</td>\n",
                            "    </tr>\n",
                            "    <tr>\n",
                            "      <th>2</th>\n",
                            "      <td>Mass:</td>\n",
                            "      <td>6.39 × 10^23 kg</td>\n",
                            "      <td>5.97 × 10^24 kg</td>\n",
                            "    </tr>\n",
                            "    <tr>\n",
                            "      <th>3</th>\n",
                            "      <td>Moons:</td>\n",
                            "      <td>2</td>\n",
                            "      <td>1</td>\n",
                            "    </tr>\n",
                            "    <tr>\n",
                            "      <th>4</th>\n",
                            "      <td>Distance from Sun:</td>\n",
                            "      <td>227,943,824 km</td>\n",
                            "      <td>149,598,262 km</td>\n",
                            "    </tr>\n",
                            "    <tr>\n",
                            "      <th>5</th>\n",
                            "      <td>Length of Year:</td>\n",
                            "      <td>687 Earth days</td>\n",
                            "      <td>365.24 days</td>\n",
                            "    </tr>\n",
                            "    <tr>\n",
                            "      <th>6</th>\n",
                            "      <td>Temperature:</td>\n",
                            "      <td>-87 to -5 °C</td>\n",
                            "      <td>-88 to 58°C</td>\n",
                            "    </tr>\n",
                            "  </tbody>\n",
                            "</table>\n",
                            "</div>"
                        ]
                    },
                    "metadata": {},
                    "execution_count": 14
                }
            ],
            "metadata": {}
        },
        {
            "cell_type": "code",
            "execution_count": 41,
            "source": [
                "mars_facts"
            ],
            "outputs": [
                {
                    "output_type": "execute_result",
                    "data": {
                        "text/plain": [
                            "<pandas.io.formats.style.Styler at 0x24923a37fd0>"
                        ],
                        "text/html": [
                            "<style  type=\"text/css\" >\n",
                            "</style><table id=\"T_32759a46_0d94_11ec_b7c7_e02be9f57df9\" ><thead>    <tr>        <th class=\"blank level0\" ></th>        <th class=\"col_heading level0 col0\" >0</th>        <th class=\"col_heading level0 col1\" >1</th>        <th class=\"col_heading level0 col2\" >2</th>    </tr></thead><tbody>\n",
                            "                <tr>\n",
                            "                        <th id=\"T_32759a46_0d94_11ec_b7c7_e02be9f57df9level0_row0\" class=\"row_heading level0 row0\" >0</th>\n",
                            "                        <td id=\"T_32759a46_0d94_11ec_b7c7_e02be9f57df9row0_col0\" class=\"data row0 col0\" >Mars - Earth Comparison</td>\n",
                            "                        <td id=\"T_32759a46_0d94_11ec_b7c7_e02be9f57df9row0_col1\" class=\"data row0 col1\" >Mars</td>\n",
                            "                        <td id=\"T_32759a46_0d94_11ec_b7c7_e02be9f57df9row0_col2\" class=\"data row0 col2\" >Earth</td>\n",
                            "            </tr>\n",
                            "            <tr>\n",
                            "                        <th id=\"T_32759a46_0d94_11ec_b7c7_e02be9f57df9level0_row1\" class=\"row_heading level0 row1\" >1</th>\n",
                            "                        <td id=\"T_32759a46_0d94_11ec_b7c7_e02be9f57df9row1_col0\" class=\"data row1 col0\" >Diameter:</td>\n",
                            "                        <td id=\"T_32759a46_0d94_11ec_b7c7_e02be9f57df9row1_col1\" class=\"data row1 col1\" >6,779 km</td>\n",
                            "                        <td id=\"T_32759a46_0d94_11ec_b7c7_e02be9f57df9row1_col2\" class=\"data row1 col2\" >12,742 km</td>\n",
                            "            </tr>\n",
                            "            <tr>\n",
                            "                        <th id=\"T_32759a46_0d94_11ec_b7c7_e02be9f57df9level0_row2\" class=\"row_heading level0 row2\" >2</th>\n",
                            "                        <td id=\"T_32759a46_0d94_11ec_b7c7_e02be9f57df9row2_col0\" class=\"data row2 col0\" >Mass:</td>\n",
                            "                        <td id=\"T_32759a46_0d94_11ec_b7c7_e02be9f57df9row2_col1\" class=\"data row2 col1\" >6.39 × 10^23 kg</td>\n",
                            "                        <td id=\"T_32759a46_0d94_11ec_b7c7_e02be9f57df9row2_col2\" class=\"data row2 col2\" >5.97 × 10^24 kg</td>\n",
                            "            </tr>\n",
                            "            <tr>\n",
                            "                        <th id=\"T_32759a46_0d94_11ec_b7c7_e02be9f57df9level0_row3\" class=\"row_heading level0 row3\" >3</th>\n",
                            "                        <td id=\"T_32759a46_0d94_11ec_b7c7_e02be9f57df9row3_col0\" class=\"data row3 col0\" >Moons:</td>\n",
                            "                        <td id=\"T_32759a46_0d94_11ec_b7c7_e02be9f57df9row3_col1\" class=\"data row3 col1\" >2</td>\n",
                            "                        <td id=\"T_32759a46_0d94_11ec_b7c7_e02be9f57df9row3_col2\" class=\"data row3 col2\" >1</td>\n",
                            "            </tr>\n",
                            "            <tr>\n",
                            "                        <th id=\"T_32759a46_0d94_11ec_b7c7_e02be9f57df9level0_row4\" class=\"row_heading level0 row4\" >4</th>\n",
                            "                        <td id=\"T_32759a46_0d94_11ec_b7c7_e02be9f57df9row4_col0\" class=\"data row4 col0\" >Distance from Sun:</td>\n",
                            "                        <td id=\"T_32759a46_0d94_11ec_b7c7_e02be9f57df9row4_col1\" class=\"data row4 col1\" >227,943,824 km</td>\n",
                            "                        <td id=\"T_32759a46_0d94_11ec_b7c7_e02be9f57df9row4_col2\" class=\"data row4 col2\" >149,598,262 km</td>\n",
                            "            </tr>\n",
                            "            <tr>\n",
                            "                        <th id=\"T_32759a46_0d94_11ec_b7c7_e02be9f57df9level0_row5\" class=\"row_heading level0 row5\" >5</th>\n",
                            "                        <td id=\"T_32759a46_0d94_11ec_b7c7_e02be9f57df9row5_col0\" class=\"data row5 col0\" >Length of Year:</td>\n",
                            "                        <td id=\"T_32759a46_0d94_11ec_b7c7_e02be9f57df9row5_col1\" class=\"data row5 col1\" >687 Earth days</td>\n",
                            "                        <td id=\"T_32759a46_0d94_11ec_b7c7_e02be9f57df9row5_col2\" class=\"data row5 col2\" >365.24 days</td>\n",
                            "            </tr>\n",
                            "            <tr>\n",
                            "                        <th id=\"T_32759a46_0d94_11ec_b7c7_e02be9f57df9level0_row6\" class=\"row_heading level0 row6\" >6</th>\n",
                            "                        <td id=\"T_32759a46_0d94_11ec_b7c7_e02be9f57df9row6_col0\" class=\"data row6 col0\" >Temperature:</td>\n",
                            "                        <td id=\"T_32759a46_0d94_11ec_b7c7_e02be9f57df9row6_col1\" class=\"data row6 col1\" >-87 to -5 °C</td>\n",
                            "                        <td id=\"T_32759a46_0d94_11ec_b7c7_e02be9f57df9row6_col2\" class=\"data row6 col2\" >-88 to 58°C</td>\n",
                            "            </tr>\n",
                            "    </tbody></table>"
                        ]
                    },
                    "metadata": {},
                    "execution_count": 41
                }
            ],
            "metadata": {}
        },
        {
            "cell_type": "code",
            "execution_count": 16,
            "source": [
                "# convert to html for use on webpage\r\n",
                "facts_table = mars_facts.to_html(index = False, header = False, classes=\"table table-success table-striped\", bold_rows = True)"
            ],
            "outputs": [],
            "metadata": {}
        },
        {
            "cell_type": "code",
            "execution_count": 17,
            "source": [
                "facts_table"
            ],
            "outputs": [
                {
                    "output_type": "execute_result",
                    "data": {
                        "text/plain": [
                            "'<table border=\"1\" class=\"dataframe\">\\n  <tbody>\\n    <tr>\\n      <td>Mars - Earth Comparison</td>\\n      <td>Mars</td>\\n      <td>Earth</td>\\n    </tr>\\n    <tr>\\n      <td>Diameter:</td>\\n      <td>6,779 km</td>\\n      <td>12,742 km</td>\\n    </tr>\\n    <tr>\\n      <td>Mass:</td>\\n      <td>6.39 × 10^23 kg</td>\\n      <td>5.97 × 10^24 kg</td>\\n    </tr>\\n    <tr>\\n      <td>Moons:</td>\\n      <td>2</td>\\n      <td>1</td>\\n    </tr>\\n    <tr>\\n      <td>Distance from Sun:</td>\\n      <td>227,943,824 km</td>\\n      <td>149,598,262 km</td>\\n    </tr>\\n    <tr>\\n      <td>Length of Year:</td>\\n      <td>687 Earth days</td>\\n      <td>365.24 days</td>\\n    </tr>\\n    <tr>\\n      <td>Temperature:</td>\\n      <td>-87 to -5 °C</td>\\n      <td>-88 to 58°C</td>\\n    </tr>\\n  </tbody>\\n</table>'"
                        ]
                    },
                    "metadata": {},
                    "execution_count": 17
                }
            ],
            "metadata": {}
        },
        {
            "cell_type": "markdown",
            "source": [
                "# Mars Hempispheres"
            ],
            "metadata": {}
        },
        {
            "cell_type": "code",
            "execution_count": 18,
            "source": [
                "# use splinter  and beautiful soup for this exercise\r\n",
                "executable_path = {'executable_path': ChromeDriverManager().install()}\r\n",
                "browser = Browser('chrome', **executable_path, headless=False)"
            ],
            "outputs": [
                {
                    "output_type": "stream",
                    "name": "stderr",
                    "text": [
                        "\n",
                        "\n",
                        "====== WebDriver manager ======\n",
                        "Current google-chrome version is 93.0.4577\n",
                        "Get LATEST driver version for 93.0.4577\n",
                        "Driver [C:\\Users\\kathe\\.wdm\\drivers\\chromedriver\\win32\\93.0.4577.15\\chromedriver.exe] found in cache\n"
                    ]
                }
            ],
            "metadata": {}
        },
        {
            "cell_type": "code",
            "execution_count": 19,
            "source": [
                "# use splinter and beautiful soup to get html\r\n",
                "url = 'https://marshemispheres.com/'\r\n",
                "browser.visit(url)\r\n",
                "html = browser.html\r\n",
                "soup = bs(html, 'html.parser')"
            ],
            "outputs": [],
            "metadata": {}
        },
        {
            "cell_type": "code",
            "execution_count": 20,
            "source": [
                "# initialise dictionary\r\n",
                "hemisphere_image_urls = []\r\n",
                "\r\n",
                "# each hemisphere has its own section\r\n",
                "moons = soup.find_all('div', class_='item')\r\n",
                "for moon in moons:\r\n",
                "    # title is in h3\r\n",
                "    clean_title = moon.h3.text.strip()\r\n",
                "    # go to page with info on full image\r\n",
                "    moon_link = moon.a['href']\r\n",
                "    browser.visit(url + moon_link)\r\n",
                "    # use splinter and beautiful soup to find url of full image\r\n",
                "    moon_html = browser.html\r\n",
                "    moon_soup = bs(moon_html, 'html.parser')\r\n",
                "    moon_look = moon_soup.find('div', id='wide-image')\r\n",
                "    moon_look_again = moon_look.find('a', target='_blank')['href']\r\n",
                "    moon_image_url = url + moon_look_again\r\n",
                "    # add to dictionary\r\n",
                "    hemisphere_image_urls.append({\"title\":clean_title, \"img_url\":moon_image_url})\r\n",
                "    # return to main page\r\n",
                "    browser.links.find_by_partial_text('Back').click()\r\n",
                "    time.sleep(1)\r\n",
                "        \r\n",
                "hemisphere_image_urls "
            ],
            "outputs": [
                {
                    "output_type": "execute_result",
                    "data": {
                        "text/plain": [
                            "[{'title': 'Cerberus Hemisphere Enhanced',\n",
                            "  'img_url': 'https://marshemispheres.com/images/full.jpg'},\n",
                            " {'title': 'Schiaparelli Hemisphere Enhanced',\n",
                            "  'img_url': 'https://marshemispheres.com/images/schiaparelli_enhanced-full.jpg'},\n",
                            " {'title': 'Syrtis Major Hemisphere Enhanced',\n",
                            "  'img_url': 'https://marshemispheres.com/images/syrtis_major_enhanced-full.jpg'},\n",
                            " {'title': 'Valles Marineris Hemisphere Enhanced',\n",
                            "  'img_url': 'https://marshemispheres.com/images/valles_marineris_enhanced-full.jpg'}]"
                        ]
                    },
                    "metadata": {},
                    "execution_count": 20
                }
            ],
            "metadata": {}
        },
        {
            "cell_type": "code",
            "execution_count": 21,
            "source": [
                "browser.quit()"
            ],
            "outputs": [],
            "metadata": {}
        },
        {
            "cell_type": "code",
            "execution_count": 22,
            "source": [
                "# just some code I don't want to lose in case it turns out to be useful\r\n",
                "# partial = title_list[0].split().pop(0).lower()"
            ],
            "outputs": [],
            "metadata": {}
        },
        {
            "cell_type": "markdown",
            "source": [
                "# Create Dictionary of Outputs"
            ],
            "metadata": {}
        },
        {
            "cell_type": "code",
            "execution_count": 23,
            "source": [
                "# create dictionary of outputs\r\n",
                "mars_info = {}\r\n",
                "mars_info = {\r\n",
                "\"news_title\":news_title,\r\n",
                "\"news_p\": news_p,\r\n",
                "\"featured_img_url\": featured_image_url,\r\n",
                "\"facts\":facts_table,\r\n",
                "\"hemispheres\":hemisphere_image_urls\r\n",
                "}\r\n"
            ],
            "outputs": [],
            "metadata": {}
        },
        {
            "cell_type": "code",
            "execution_count": 24,
            "source": [
                "mars_info"
            ],
            "outputs": [
                {
                    "output_type": "execute_result",
                    "data": {
                        "text/plain": [
                            "{'news_title': '5NASA to Broadcast Mars 2020 Perseverance Launch, Prelaunch Activities',\n",
                            " 'news_p': 'Starting July 27, news activities will cover everything from mission engineering and science to returning samples from Mars to, of course, the launch itself.',\n",
                            " 'featured_img_url': 'https://spaceimages-mars.com/image/featured/mars1.jpg',\n",
                            " 'facts': '<table border=\"1\" class=\"dataframe\">\\n  <tbody>\\n    <tr>\\n      <td>Mars - Earth Comparison</td>\\n      <td>Mars</td>\\n      <td>Earth</td>\\n    </tr>\\n    <tr>\\n      <td>Diameter:</td>\\n      <td>6,779 km</td>\\n      <td>12,742 km</td>\\n    </tr>\\n    <tr>\\n      <td>Mass:</td>\\n      <td>6.39 × 10^23 kg</td>\\n      <td>5.97 × 10^24 kg</td>\\n    </tr>\\n    <tr>\\n      <td>Moons:</td>\\n      <td>2</td>\\n      <td>1</td>\\n    </tr>\\n    <tr>\\n      <td>Distance from Sun:</td>\\n      <td>227,943,824 km</td>\\n      <td>149,598,262 km</td>\\n    </tr>\\n    <tr>\\n      <td>Length of Year:</td>\\n      <td>687 Earth days</td>\\n      <td>365.24 days</td>\\n    </tr>\\n    <tr>\\n      <td>Temperature:</td>\\n      <td>-87 to -5 °C</td>\\n      <td>-88 to 58°C</td>\\n    </tr>\\n  </tbody>\\n</table>',\n",
                            " 'hemispheres': [{'title': 'Cerberus Hemisphere Enhanced',\n",
                            "   'img_url': 'https://marshemispheres.com/images/full.jpg'},\n",
                            "  {'title': 'Schiaparelli Hemisphere Enhanced',\n",
                            "   'img_url': 'https://marshemispheres.com/images/schiaparelli_enhanced-full.jpg'},\n",
                            "  {'title': 'Syrtis Major Hemisphere Enhanced',\n",
                            "   'img_url': 'https://marshemispheres.com/images/syrtis_major_enhanced-full.jpg'},\n",
                            "  {'title': 'Valles Marineris Hemisphere Enhanced',\n",
                            "   'img_url': 'https://marshemispheres.com/images/valles_marineris_enhanced-full.jpg'}]}"
                        ]
                    },
                    "metadata": {},
                    "execution_count": 24
                }
            ],
            "metadata": {}
        },
        {
            "cell_type": "markdown",
            "source": [],
            "metadata": {}
        },
        {
            "cell_type": "markdown",
            "source": [
                "# Set up Database and Insert initial values"
            ],
            "metadata": {}
        },
        {
            "cell_type": "code",
            "execution_count": 25,
            "source": [
                "# Module used to connect Python with MongoDb\r\n",
                "import pymongo\r\n",
                "\r\n",
                "# The default port used by MongoDB is 27017\r\n",
                "# https://docs.mongodb.com/manual/reference/default-mongodb-port/\r\n",
                "conn = 'mongodb://localhost:27017'\r\n",
                "client = pymongo.MongoClient(conn)\r\n",
                "\r\n",
                "# Define the 'classDB' database in Mongo\r\n",
                "db = client.mars_db\r\n",
                "\r\n",
                "# Declare the collection\r\n",
                "facts = db.facts\r\n",
                "\r\n",
                "# Drops collection if available to remove duplicates\r\n",
                "db.facts.drop()\r\n",
                "\r\n",
                "# A dictionary that represents the document to be inserted\r\n",
                "post = mars_info\r\n",
                "# Insert the document into the database\r\n",
                "# The database and collection, if they don't already exist, will be created at this point.\r\n",
                "facts.insert_one(post)\r\n",
                "\r\n"
            ],
            "outputs": [
                {
                    "output_type": "execute_result",
                    "data": {
                        "text/plain": [
                            "<pymongo.results.InsertOneResult at 0x2492327f7c8>"
                        ]
                    },
                    "metadata": {},
                    "execution_count": 25
                }
            ],
            "metadata": {}
        }
    ],
    "metadata": {
        "orig_nbformat": 4,
        "language_info": {
            "name": "python",
            "version": "3.6.13",
            "mimetype": "text/x-python",
            "codemirror_mode": {
                "name": "ipython",
                "version": 3
            },
            "pygments_lexer": "ipython3",
            "nbconvert_exporter": "python",
            "file_extension": ".py"
        },
        "kernelspec": {
            "name": "python3",
            "display_name": "Python 3.6.13 64-bit ('PythonData': conda)"
        },
        "interpreter": {
            "hash": "2cb9b7d5b68f4bfebe37bd14371b74a26c7634c91bad2bd7203be20ef753368a"
        }
    },
    "nbformat": 4,
    "nbformat_minor": 2
}