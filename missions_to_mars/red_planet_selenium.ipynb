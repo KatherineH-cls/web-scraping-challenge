{
    "cells": [
        {
            "cell_type": "code",
            "execution_count": 25,
            "source": [
                "from selenium import webdriver\r\n",
                "from selenium.webdriver.common.keys import Keys"
            ],
            "outputs": [],
            "metadata": {}
        },
        {
            "cell_type": "code",
            "execution_count": 31,
            "source": [
                "driver = webdriver.Chrome(executable_path=r\"C:\\Users\\kathe\\Downloads\\chromedriver_win32\\chromedriver.exe\")"
            ],
            "outputs": [],
            "metadata": {}
        },
        {
            "cell_type": "code",
            "execution_count": 34,
            "source": [
                "driver.get('https://redplanetscience.com/')\r\n"
            ],
            "outputs": [],
            "metadata": {}
        },
        {
            "cell_type": "code",
            "execution_count": 38,
            "source": [
                "titles = driver.find_elements_by_xpath('//*[@id=\"news\"]/div[1]/div/div[2]/div/div[2]')\r\n",
                "news_title = titles[0].text\r\n",
                "news_title"
            ],
            "outputs": [
                {
                    "output_type": "execute_result",
                    "data": {
                        "text/plain": [
                            "\"Mars Helicopter Attached to NASA's Perseverance Rover\""
                        ]
                    },
                    "metadata": {},
                    "execution_count": 38
                }
            ],
            "metadata": {}
        },
        {
            "cell_type": "code",
            "execution_count": 37,
            "source": [
                "snippet = driver.find_elements_by_xpath('//*[@id=\"news\"]/div[1]/div/div[2]/div/div[3]')\r\n",
                "news_p = snippet[0].text\r\n",
                "news_p"
            ],
            "outputs": [
                {
                    "output_type": "execute_result",
                    "data": {
                        "text/plain": [
                            "\"The team also fueled the rover's sky crane to get ready for this summer's history-making launch.\""
                        ]
                    },
                    "metadata": {},
                    "execution_count": 37
                }
            ],
            "metadata": {}
        },
        {
            "cell_type": "code",
            "execution_count": 39,
            "source": [
                "backup_title = \"Mars Helicopter Attached to NASA's Perseverance Rover\"\r\n",
                "backup_snippet = \"The team also fueled the rover's sky crane to get ready for this summer's history-making launch.\""
            ],
            "outputs": [],
            "metadata": {}
        }
    ],
    "metadata": {
        "orig_nbformat": 4,
        "language_info": {
            "name": "python",
            "version": "3.6.10",
            "mimetype": "text/x-python",
            "codemirror_mode": {
                "name": "ipython",
                "version": 3
            },
            "pygments_lexer": "ipython3",
            "nbconvert_exporter": "python",
            "file_extension": ".py"
        },
        "kernelspec": {
            "name": "python3",
            "display_name": "Python 3.6.10 64-bit ('PythonData': conda)"
        },
        "interpreter": {
            "hash": "2cb9b7d5b68f4bfebe37bd14371b74a26c7634c91bad2bd7203be20ef753368a"
        }
    },
    "nbformat": 4,
    "nbformat_minor": 2
}